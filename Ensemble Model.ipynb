{
 "cells": [
  {
   "cell_type": "code",
   "execution_count": 7,
   "metadata": {},
   "outputs": [],
   "source": [
    "from keras.models import load_model\n",
    "from sklearn.ensemble import VotingClassifier\n",
    "from sklearn.datasets import load_digits\n",
    "from sklearn.model_selection import train_test_split\n",
    "from sklearn.metrics import accuracy_score\n",
    "from keras.models import save_model\n",
    "import joblib\n"
   ]
  },
  {
   "cell_type": "code",
   "execution_count": 8,
   "metadata": {},
   "outputs": [
    {
     "data": {
      "text/plain": [
       "['cancer_ensemble_model.joblib']"
      ]
     },
     "execution_count": 8,
     "metadata": {},
     "output_type": "execute_result"
    }
   ],
   "source": [
    "\n",
    "\n",
    "\n",
    "model1 = load_model('/Users/nithinreddy/Desktop/InceptionV3.h5')\n",
    "model2 = load_model('/Users/nithinreddy/Desktop/VGG19.h5')\n",
    "model3 = load_model('/Users/nithinreddy/Desktop/ResNet50.h5')\n",
    "model4 = load_model('/Users/nithinreddy/Desktop/DENSENET.h5')\n",
    "model5 = load_model('/Users/nithinreddy/Desktop/CNN.h5')\n",
    "\n",
    "\n",
    "class KerasClassifierWrapper:\n",
    "    def __init__(self, model):\n",
    "        self.model = model\n",
    "\n",
    "    def predict(self, X):\n",
    "        return self.model.predict(X)\n",
    "\n",
    "model1 = KerasClassifierWrapper(model1)\n",
    "model2 = KerasClassifierWrapper(model2)\n",
    "model3 = KerasClassifierWrapper(model3)\n",
    "model4 = KerasClassifierWrapper(model4)\n",
    "model5 = KerasClassifierWrapper(model5)\n",
    "\n",
    "ensemble_model = VotingClassifier(estimators=[\n",
    "    ('model1', model1),\n",
    "    ('model2', model2),\n",
    "    ('model3', model3),\n",
    "    ('model4', model4),\n",
    "    ('model5', model5)\n",
    "], voting='soft')\n",
    "\n",
    "\n",
    "joblib.dump(ensemble_model, 'cancer_ensemble_model.joblib')\n"
   ]
  },
  {
   "cell_type": "code",
   "execution_count": null,
   "metadata": {},
   "outputs": [],
   "source": [
    "pip show tensorflow keras joblib\n"
   ]
  },
  {
   "cell_type": "code",
   "execution_count": null,
   "metadata": {},
   "outputs": [],
   "source": []
  },
  {
   "cell_type": "code",
   "execution_count": 15,
   "metadata": {},
   "outputs": [
    {
     "name": "stderr",
     "output_type": "stream",
     "text": [
      "/var/folders/xc/4s7z9g555dz666hdd0b943_80000gn/T/ipykernel_62246/3467227719.py:36: UserWarning: You are saving your model as an HDF5 file via `model.save()`. This file format is considered legacy. We recommend using instead the native Keras format, e.g. `model.save('my_model.keras')`.\n",
      "  save_model(model1.model, 'model1.h5')\n",
      "/var/folders/xc/4s7z9g555dz666hdd0b943_80000gn/T/ipykernel_62246/3467227719.py:37: UserWarning: You are saving your model as an HDF5 file via `model.save()`. This file format is considered legacy. We recommend using instead the native Keras format, e.g. `model.save('my_model.keras')`.\n",
      "  save_model(model2.model, 'model2.h5')\n",
      "/var/folders/xc/4s7z9g555dz666hdd0b943_80000gn/T/ipykernel_62246/3467227719.py:38: UserWarning: You are saving your model as an HDF5 file via `model.save()`. This file format is considered legacy. We recommend using instead the native Keras format, e.g. `model.save('my_model.keras')`.\n",
      "  save_model(model3.model, 'model3.h5')\n",
      "/var/folders/xc/4s7z9g555dz666hdd0b943_80000gn/T/ipykernel_62246/3467227719.py:39: UserWarning: You are saving your model as an HDF5 file via `model.save()`. This file format is considered legacy. We recommend using instead the native Keras format, e.g. `model.save('my_model.keras')`.\n",
      "  save_model(model4.model, 'model4.h5')\n",
      "/var/folders/xc/4s7z9g555dz666hdd0b943_80000gn/T/ipykernel_62246/3467227719.py:40: UserWarning: You are saving your model as an HDF5 file via `model.save()`. This file format is considered legacy. We recommend using instead the native Keras format, e.g. `model.save('my_model.keras')`.\n",
      "  save_model(model5.model, 'model5.h5')\n"
     ]
    }
   ],
   "source": [
    "from keras.models import load_model, save_model\n",
    "import h5py\n",
    "from sklearn.ensemble import VotingClassifier\n",
    "\n",
    "model1 = load_model('/Users/nithinreddy/Desktop/InceptionV3.h5')\n",
    "model2 = load_model('/Users/nithinreddy/Desktop/VGG19.h5')\n",
    "model3 = load_model('/Users/nithinreddy/Desktop/ResNet50.h5')\n",
    "model4 = load_model('/Users/nithinreddy/Desktop/DENSENET.h5')\n",
    "model5 = load_model('/Users/nithinreddy/Desktop/CNN.h5')\n",
    "\n",
    "class KerasClassifierWrapper:\n",
    "    def __init__(self, model):\n",
    "        self.model = model\n",
    "\n",
    "    def predict(self, X):\n",
    "        return self.model.predict(X)\n",
    "\n",
    "model1 = KerasClassifierWrapper(model1)\n",
    "model2 = KerasClassifierWrapper(model2)\n",
    "model3 = KerasClassifierWrapper(model3)\n",
    "model4 = KerasClassifierWrapper(model4)\n",
    "model5 = KerasClassifierWrapper(model5)\n",
    "\n",
    "ensemble_model = VotingClassifier(estimators=[\n",
    "    ('model1', model1),\n",
    "    ('model2', model2),\n",
    "    ('model3', model3),\n",
    "    ('model4', model4),\n",
    "    ('model5', model5)\n",
    "], voting='soft')\n",
    "\n",
    "save_model(model1.model, 'model1.h5')\n",
    "save_model(model2.model, 'model2.h5')\n",
    "save_model(model3.model, 'model3.h5')\n",
    "save_model(model4.model, 'model4.h5')\n",
    "save_model(model5.model, 'model5.h5')\n",
    "\n",
    "with h5py.File('cancer_ensemble_model.h5', 'w') as h5file:\n",
    "    h5file.create_dataset('model1_path', data='model1.h5')\n",
    "    h5file.create_dataset('model2_path', data='model2.h5')\n",
    "    h5file.create_dataset('model3_path', data='model3.h5')\n",
    "    h5file.create_dataset('model4_path', data='model4.h5')\n",
    "    h5file.create_dataset('model5_path', data='model5.h5')\n",
    "\n",
    "   \n"
   ]
  }
 ],
 "metadata": {
  "kernelspec": {
   "display_name": "base",
   "language": "python",
   "name": "python3"
  },
  "language_info": {
   "codemirror_mode": {
    "name": "ipython",
    "version": 3
   },
   "file_extension": ".py",
   "mimetype": "text/x-python",
   "name": "python",
   "nbconvert_exporter": "python",
   "pygments_lexer": "ipython3",
   "version": "3.11.5"
  }
 },
 "nbformat": 4,
 "nbformat_minor": 2
}
